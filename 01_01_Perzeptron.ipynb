{
  "nbformat": 4,
  "nbformat_minor": 0,
  "metadata": {
    "kernelspec": {
      "display_name": "Python 3",
      "language": "python",
      "name": "python3"
    },
    "language_info": {
      "codemirror_mode": {
        "name": "ipython",
        "version": 3
      },
      "file_extension": ".py",
      "mimetype": "text/x-python",
      "name": "python",
      "nbconvert_exporter": "python",
      "pygments_lexer": "ipython3",
      "version": "3.8.2"
    },
    "colab": {
      "name": "01-01_Perzeptron.ipynb",
      "provenance": [],
      "collapsed_sections": []
    }
  },
  "cells": [
    {
      "cell_type": "code",
      "metadata": {
        "id": "9SqyAyDv0HOo",
        "colab_type": "code",
        "colab": {}
      },
      "source": [
        "import numpy as np"
      ],
      "execution_count": null,
      "outputs": []
    },
    {
      "cell_type": "code",
      "metadata": {
        "id": "hPjeg7Bl1Z1L",
        "colab_type": "code",
        "colab": {}
      },
      "source": [
        "X_AND = [(0, 0), (0, 1), (1, 0), (1, 1)]\n",
        "Y_AND = [0, 0, 0, 1]"
      ],
      "execution_count": 12,
      "outputs": []
    },
    {
      "cell_type": "code",
      "metadata": {
        "id": "75SocI210HO8",
        "colab_type": "code",
        "colab": {}
      },
      "source": [
        "def run_perceptron(X, Y, w1, w2, b):\n",
        "\n",
        "  output = []\n",
        "  n_fehler = 0\n",
        "\n",
        "  for x, y in zip(X, Y):\n",
        "      y_ = w1 * x[0] + w2 * x[1] + b\n",
        "      y_hat = 1 if y_ >= 0 else 0\n",
        "      n_fehler += 1 if y_hat != y else 0\n",
        "      korrekt = \"korrekt\" if y_hat == y else \"falsch\"\n",
        "      output.append({\"x0\": x[0], \"x1\": x[1], \"<x,w>+b\": y_, \"y_hat\": y_hat, \"klassifizierung\": korrekt})\n",
        "  \n",
        "  if n_fehler == 0:\n",
        "    print(\"Alles korrekt klassifiziert!\")\n",
        "    return output\n",
        "  else:\n",
        "    print(\"Noch nicht alles korrekt klassifiziert! Schau dir den Output nochmal an:\")\n",
        "    return output"
      ],
      "execution_count": 40,
      "outputs": []
    },
    {
      "cell_type": "code",
      "metadata": {
        "id": "91guqvos0HPK",
        "colab_type": "code",
        "colab": {
          "base_uri": "https://localhost:8080/",
          "height": 108
        },
        "outputId": "a812a3d8-a7bf-4bc5-811f-679e1b10d79a"
      },
      "source": [
        "run_perceptron(X_AND, Y_AND, w1 = 1., w2 = 1., b = -1.5)"
      ],
      "execution_count": 42,
      "outputs": [
        {
          "output_type": "stream",
          "text": [
            "Alles korrekt klassifiziert!\n"
          ],
          "name": "stdout"
        },
        {
          "output_type": "execute_result",
          "data": {
            "text/plain": [
              "[{'<x,w>+b': -1.5, 'klassifizierung': 'korrekt', 'x0': 0, 'x1': 0, 'y_hat': 0},\n",
              " {'<x,w>+b': -0.5, 'klassifizierung': 'korrekt', 'x0': 0, 'x1': 1, 'y_hat': 0},\n",
              " {'<x,w>+b': -0.5, 'klassifizierung': 'korrekt', 'x0': 1, 'x1': 0, 'y_hat': 0},\n",
              " {'<x,w>+b': 0.5, 'klassifizierung': 'korrekt', 'x0': 1, 'x1': 1, 'y_hat': 1}]"
            ]
          },
          "metadata": {
            "tags": []
          },
          "execution_count": 42
        }
      ]
    },
    {
      "cell_type": "code",
      "metadata": {
        "id": "EDtBGYwk6Y3V",
        "colab_type": "code",
        "colab": {}
      },
      "source": [
        "X_OR = [(0, 0), (0, 1), (1, 0), (1, 1)]\n",
        "Y_OR = [0, 1, 1, 1]"
      ],
      "execution_count": 43,
      "outputs": []
    },
    {
      "cell_type": "code",
      "metadata": {
        "id": "nR1KHwNA6oRh",
        "colab_type": "code",
        "colab": {
          "base_uri": "https://localhost:8080/",
          "height": 108
        },
        "outputId": "edef664d-b7e8-4ed2-beed-cd8ce076ed8f"
      },
      "source": [
        "# Lösung:\n",
        "\n",
        "run_perceptron(X_OR, Y_OR, w1 = .5, w2 = .5, b = -.5)"
      ],
      "execution_count": 51,
      "outputs": [
        {
          "output_type": "stream",
          "text": [
            "Alles korrekt klassifiziert!\n"
          ],
          "name": "stdout"
        },
        {
          "output_type": "execute_result",
          "data": {
            "text/plain": [
              "[{'<x,w>+b': -0.5, 'klassifizierung': 'korrekt', 'x0': 0, 'x1': 0, 'y_hat': 0},\n",
              " {'<x,w>+b': 0.0, 'klassifizierung': 'korrekt', 'x0': 0, 'x1': 1, 'y_hat': 1},\n",
              " {'<x,w>+b': 0.0, 'klassifizierung': 'korrekt', 'x0': 1, 'x1': 0, 'y_hat': 1},\n",
              " {'<x,w>+b': 0.5, 'klassifizierung': 'korrekt', 'x0': 1, 'x1': 1, 'y_hat': 1}]"
            ]
          },
          "metadata": {
            "tags": []
          },
          "execution_count": 51
        }
      ]
    },
    {
      "cell_type": "code",
      "metadata": {
        "id": "M01j9-3I6rKu",
        "colab_type": "code",
        "colab": {}
      },
      "source": [
        ""
      ],
      "execution_count": null,
      "outputs": []
    }
  ]
}