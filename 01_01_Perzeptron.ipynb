{
  "nbformat": 4,
  "nbformat_minor": 0,
  "metadata": {
    "kernelspec": {
      "display_name": "Python 3",
      "language": "python",
      "name": "python3"
    },
    "language_info": {
      "codemirror_mode": {
        "name": "ipython",
        "version": 3
      },
      "file_extension": ".py",
      "mimetype": "text/x-python",
      "name": "python",
      "nbconvert_exporter": "python",
      "pygments_lexer": "ipython3",
      "version": "3.8.2"
    },
    "colab": {
      "name": "01-01_Perzeptron.ipynb",
      "provenance": [],
      "collapsed_sections": []
    }
  },
  "cells": [
    {
      "cell_type": "code",
      "metadata": {
        "id": "9SqyAyDv0HOo",
        "colab_type": "code",
        "colab": {}
      },
      "source": [
        "import numpy as np\n",
        "import pandas as pd"
      ],
      "execution_count": null,
      "outputs": []
    },
    {
      "cell_type": "code",
      "metadata": {
        "id": "hPjeg7Bl1Z1L",
        "colab_type": "code",
        "colab": {}
      },
      "source": [
        "X_AND = [(0, 0), (0, 1), (1, 0), (1, 1)]\n",
        "Y_AND = [0, 0, 0, 1]"
      ],
      "execution_count": null,
      "outputs": []
    },
    {
      "cell_type": "code",
      "metadata": {
        "id": "75SocI210HO8",
        "colab_type": "code",
        "colab": {}
      },
      "source": [
        "def run_perceptron(X, Y, w1, w2, b, print_table = True):\n",
        "\n",
        "  output = []\n",
        "\n",
        "  for x, y in zip(X, Y):\n",
        "      y_ = w1 * x[0] + w2 * x[1] + b\n",
        "      y_hat = 1 if y_ >= 0 else 0\n",
        "      korrekt = \"korrekt\" if y_hat == y else \"falsch\"\n",
        "      output.append([x[0], x[1], y_, y_hat, korrekt])\n",
        "  \n",
        "  output_frame = pd.DataFrame(output, columns = [\"x1\", \" x2\", \"  <x,w>+b\", \"  y_hat\", \"  Klassifizierung\"])\n",
        "\n",
        "  if print_table == True:\n",
        "    print(output_frame.to_string(index = False))\n",
        "\n",
        "  return [output[0][3], output[1][3], output[2][3], output[3][3]]"
      ],
      "execution_count": null,
      "outputs": []
    },
    {
      "cell_type": "code",
      "metadata": {
        "id": "91guqvos0HPK",
        "colab_type": "code",
        "colab": {
          "base_uri": "https://localhost:8080/",
          "height": 126
        },
        "outputId": "02c0e3e5-1096-4a70-d661-d0978d55d29f"
      },
      "source": [
        "w1 = 1.\n",
        "w2 = 1.\n",
        "b = -1.5\n",
        "\n",
        "run_perceptron(X_AND, Y_AND, w1, w2, b)"
      ],
      "execution_count": null,
      "outputs": [
        {
          "output_type": "stream",
          "text": [
            " x1   x2    <x,w>+b    y_hat   Klassifizierung\n",
            "  0    0       -1.5        0           korrekt\n",
            "  0    1       -0.5        0           korrekt\n",
            "  1    0       -0.5        0           korrekt\n",
            "  1    1        0.5        1           korrekt\n"
          ],
          "name": "stdout"
        },
        {
          "output_type": "execute_result",
          "data": {
            "text/plain": [
              "[0, 0, 0, 1]"
            ]
          },
          "metadata": {
            "tags": []
          },
          "execution_count": 36
        }
      ]
    },
    {
      "cell_type": "code",
      "metadata": {
        "id": "EDtBGYwk6Y3V",
        "colab_type": "code",
        "colab": {}
      },
      "source": [
        "X_OR = [(0, 0), (0, 1), (1, 0), (1, 1)]\n",
        "Y_OR = [0, 1, 1, 1]"
      ],
      "execution_count": null,
      "outputs": []
    },
    {
      "cell_type": "code",
      "metadata": {
        "id": "nR1KHwNA6oRh",
        "colab_type": "code",
        "colab": {
          "base_uri": "https://localhost:8080/",
          "height": 126
        },
        "outputId": "52964a0f-de57-42ca-ccfd-fdafd914f90c"
      },
      "source": [
        "# Lösung:\n",
        "\n",
        "w1 = .5\n",
        "w2 = .5\n",
        "b = -.5\n",
        "\n",
        "run_perceptron(X_OR, Y_OR, w1, w2, b)"
      ],
      "execution_count": null,
      "outputs": [
        {
          "output_type": "stream",
          "text": [
            " x1   x2    <x,w>+b    y_hat   Klassifizierung\n",
            "  0    0       -0.5        0           korrekt\n",
            "  0    1        0.0        1           korrekt\n",
            "  1    0        0.0        1           korrekt\n",
            "  1    1        0.5        1           korrekt\n"
          ],
          "name": "stdout"
        },
        {
          "output_type": "execute_result",
          "data": {
            "text/plain": [
              "[0, 1, 1, 1]"
            ]
          },
          "metadata": {
            "tags": []
          },
          "execution_count": 38
        }
      ]
    },
    {
      "cell_type": "code",
      "metadata": {
        "id": "97ZqlHfHSvVW",
        "colab_type": "code",
        "colab": {}
      },
      "source": [
        "X_NOT_second = [(0, 0), (0, 1), (1, 0), (1, 1)]\n",
        "Y_NOT_second = [1, 0, 1, 0]"
      ],
      "execution_count": null,
      "outputs": []
    },
    {
      "cell_type": "code",
      "metadata": {
        "id": "cIi1OBq9TEQW",
        "colab_type": "code",
        "colab": {
          "base_uri": "https://localhost:8080/",
          "height": 126
        },
        "outputId": "4b5e92be-5bcd-4ca9-ec05-c2d0bebdbd18"
      },
      "source": [
        "# Lösung:\n",
        "\n",
        "w1 = 0.0\n",
        "w2 = -.5\n",
        "b = .1\n",
        "\n",
        "run_perceptron(X_NOT_second, Y_NOT_second, w1, w2, b)"
      ],
      "execution_count": null,
      "outputs": [
        {
          "output_type": "stream",
          "text": [
            " x1   x2    <x,w>+b    y_hat   Klassifizierung\n",
            "  0    0        0.1        1           korrekt\n",
            "  0    1       -0.4        0           korrekt\n",
            "  1    0        0.1        1           korrekt\n",
            "  1    1       -0.4        0           korrekt\n"
          ],
          "name": "stdout"
        },
        {
          "output_type": "execute_result",
          "data": {
            "text/plain": [
              "[1, 0, 1, 0]"
            ]
          },
          "metadata": {
            "tags": []
          },
          "execution_count": 41
        }
      ]
    },
    {
      "cell_type": "code",
      "metadata": {
        "id": "M01j9-3I6rKu",
        "colab_type": "code",
        "colab": {}
      },
      "source": [
        "X_XOR = [(0, 0), (0, 1), (1, 0), (1, 1)]\n",
        "Y_XOR = [0, 1, 1, 0]"
      ],
      "execution_count": null,
      "outputs": []
    },
    {
      "cell_type": "code",
      "metadata": {
        "id": "Yb5cojbmPL4a",
        "colab_type": "code",
        "colab": {
          "base_uri": "https://localhost:8080/",
          "height": 199
        },
        "outputId": "6214b682-86c5-42b4-c779-1ceb2f2f87d1"
      },
      "source": [
        "# Gewichte für erstes AND Gate\n",
        "w1_1 = 1. # erster Input, erstes Neuron\n",
        "w2_1 = 1. # zweiter Input, erstes Neuron\n",
        "b1 = -1.5 # erstes Neuron, bias\n",
        "\n",
        "# Gewichte für OR Gate\n",
        "w1_2 = .5 # erster Input, zweites Neuron\n",
        "w2_2 = .5 # zweiter Input, zweites Neuron\n",
        "b2 = -.5 # zweites Neuron, bias\n",
        "\n",
        "yAND_hat = run_perceptron(X_XOR, Y_AND, w1_1, w2_1, b1)\n",
        "\n",
        "yOR_hat = run_perceptron(X_XOR, Y_OR, w1_2, w2_2, b2)"
      ],
      "execution_count": null,
      "outputs": [
        {
          "output_type": "stream",
          "text": [
            " x1   x2    <x,w>+b    y_hat   Klassifizierung\n",
            "  0    0       -1.5        0           korrekt\n",
            "  0    1       -0.5        0           korrekt\n",
            "  1    0       -0.5        0           korrekt\n",
            "  1    1        0.5        1           korrekt\n",
            " x1   x2    <x,w>+b    y_hat   Klassifizierung\n",
            "  0    0       -0.5        0           korrekt\n",
            "  0    1        0.0        1           korrekt\n",
            "  1    0        0.0        1           korrekt\n",
            "  1    1        0.5        1           korrekt\n"
          ],
          "name": "stdout"
        }
      ]
    },
    {
      "cell_type": "code",
      "metadata": {
        "id": "g3Cmu-wjUtxa",
        "colab_type": "code",
        "colab": {
          "base_uri": "https://localhost:8080/",
          "height": 108
        },
        "outputId": "9758e0e7-e577-436f-920a-ce3fa5989118"
      },
      "source": [
        "X_NAND = [(0, i) for i in yAND_hat]\n",
        "Y_NAND = [1, 1, 1, 0]\n",
        "\n",
        "# Gewichte für NOT Gate\n",
        "w1_3 = 0.0 # erster Input, drittes Neuron\n",
        "w2_3 = -.5 # zweiter Input, drittes Neuron\n",
        "b3 = .1 # drittes Neuron, bias\n",
        "\n",
        "yNAND_hat = run_perceptron(X_NAND, Y_NAND, w1_3, w2_3, b3)"
      ],
      "execution_count": null,
      "outputs": [
        {
          "output_type": "stream",
          "text": [
            " x1   x2    <x,w>+b    y_hat   Klassifizierung\n",
            "  0    0        0.1        1           korrekt\n",
            "  0    0        0.1        1           korrekt\n",
            "  0    0        0.1        1           korrekt\n",
            "  0    1       -0.4        0           korrekt\n"
          ],
          "name": "stdout"
        }
      ]
    },
    {
      "cell_type": "code",
      "metadata": {
        "id": "Mk27pp_cW26I",
        "colab_type": "code",
        "colab": {
          "base_uri": "https://localhost:8080/",
          "height": 108
        },
        "outputId": "045da791-9d1c-4d7b-e481-0ffe49b188e7"
      },
      "source": [
        "X_XOR_final = [(i, j) for i,j in zip(yNAND_hat, yOR_hat)]\n",
        "\n",
        "# Gewichte für abschließendes AND Gate\n",
        "# (wir können die Gewichte des ersten AND Gates wiederverwenden)\n",
        "w1_4 = w1_1\n",
        "w2_4 = w2_1 \n",
        "b4 = b1\n",
        "\n",
        "yXOR_hat = run_perceptron(X_XOR_final, Y_XOR, w1_4, w2_4, b4)"
      ],
      "execution_count": null,
      "outputs": [
        {
          "output_type": "stream",
          "text": [
            " x1   x2    <x,w>+b    y_hat   Klassifizierung\n",
            "  1    0       -0.5        0           korrekt\n",
            "  1    1        0.5        1           korrekt\n",
            "  1    1        0.5        1           korrekt\n",
            "  0    1       -0.5        0           korrekt\n"
          ],
          "name": "stdout"
        }
      ]
    },
    {
      "cell_type": "code",
      "metadata": {
        "id": "UwIWZS3gXh8E",
        "colab_type": "code",
        "colab": {}
      },
      "source": [
        ""
      ],
      "execution_count": null,
      "outputs": []
    }
  ]
}