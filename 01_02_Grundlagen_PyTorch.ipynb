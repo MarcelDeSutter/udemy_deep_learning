{
  "nbformat": 4,
  "nbformat_minor": 0,
  "metadata": {
    "colab": {
      "name": "01-02_Grundlagen_PyTorch.ipynb",
      "provenance": [],
      "collapsed_sections": []
    },
    "kernelspec": {
      "name": "python3",
      "display_name": "Python 3"
    }
  },
  "cells": [
    {
      "cell_type": "code",
      "metadata": {
        "id": "WbEW665MnFed",
        "colab_type": "code",
        "colab": {}
      },
      "source": [
        "import torch\n",
        "import numpy as np"
      ],
      "execution_count": 1,
      "outputs": []
    },
    {
      "cell_type": "code",
      "metadata": {
        "id": "Re1hQCaHoAck",
        "colab_type": "code",
        "colab": {}
      },
      "source": [
        "torch.tensor?"
      ],
      "execution_count": 11,
      "outputs": []
    },
    {
      "cell_type": "code",
      "metadata": {
        "id": "NzlGfpjVnQFQ",
        "colab_type": "code",
        "colab": {
          "base_uri": "https://localhost:8080/",
          "height": 53
        },
        "outputId": "90abe6e0-3c6f-4989-f89b-5195ee3320c4"
      },
      "source": [
        "x = torch.tensor([1, 2, 3])\n",
        "print(type(x))\n",
        "x"
      ],
      "execution_count": 9,
      "outputs": [
        {
          "output_type": "stream",
          "text": [
            "<class 'torch.Tensor'>\n"
          ],
          "name": "stdout"
        },
        {
          "output_type": "execute_result",
          "data": {
            "text/plain": [
              "tensor([1, 2, 3])"
            ]
          },
          "metadata": {
            "tags": []
          },
          "execution_count": 9
        }
      ]
    },
    {
      "cell_type": "code",
      "metadata": {
        "id": "yhKQA-ganuHv",
        "colab_type": "code",
        "colab": {
          "base_uri": "https://localhost:8080/",
          "height": 53
        },
        "outputId": "16f833a7-9a53-446c-ed65-61586c246eec"
      },
      "source": [
        "x = torch.tensor(np.array([1, 2, 3]))\n",
        "print(type(x))\n",
        "x"
      ],
      "execution_count": 10,
      "outputs": [
        {
          "output_type": "stream",
          "text": [
            "<class 'torch.Tensor'>\n"
          ],
          "name": "stdout"
        },
        {
          "output_type": "execute_result",
          "data": {
            "text/plain": [
              "tensor([1, 2, 3])"
            ]
          },
          "metadata": {
            "tags": []
          },
          "execution_count": 10
        }
      ]
    },
    {
      "cell_type": "code",
      "metadata": {
        "id": "pB19M-PtoVd-",
        "colab_type": "code",
        "colab": {
          "base_uri": "https://localhost:8080/",
          "height": 72
        },
        "outputId": "9a3ac808-be95-4b81-c5b8-71ea0c4ca0a3"
      },
      "source": [
        "x = torch.arange(12)\n",
        "print(x.shape)\n",
        "print(x.numel())\n",
        "x"
      ],
      "execution_count": 15,
      "outputs": [
        {
          "output_type": "stream",
          "text": [
            "torch.Size([12])\n",
            "12\n"
          ],
          "name": "stdout"
        },
        {
          "output_type": "execute_result",
          "data": {
            "text/plain": [
              "tensor([ 0,  1,  2,  3,  4,  5,  6,  7,  8,  9, 10, 11])"
            ]
          },
          "metadata": {
            "tags": []
          },
          "execution_count": 15
        }
      ]
    },
    {
      "cell_type": "code",
      "metadata": {
        "id": "fNcVGk03oivz",
        "colab_type": "code",
        "colab": {
          "base_uri": "https://localhost:8080/",
          "height": 53
        },
        "outputId": "d241bbd8-5808-4ca8-ad8e-64233773fc68"
      },
      "source": [
        "x = torch.arange(12, dtype = torch.float64)\n",
        "x"
      ],
      "execution_count": 17,
      "outputs": [
        {
          "output_type": "execute_result",
          "data": {
            "text/plain": [
              "tensor([ 0.,  1.,  2.,  3.,  4.,  5.,  6.,  7.,  8.,  9., 10., 11.],\n",
              "       dtype=torch.float64)"
            ]
          },
          "metadata": {
            "tags": []
          },
          "execution_count": 17
        }
      ]
    },
    {
      "cell_type": "code",
      "metadata": {
        "id": "T7jINvbdozrB",
        "colab_type": "code",
        "colab": {
          "base_uri": "https://localhost:8080/",
          "height": 108
        },
        "outputId": "58e8a116-5bf6-4360-9eaf-f76358e1a9df"
      },
      "source": [
        "X = x.reshape(3, 4)\n",
        "print(X.shape)\n",
        "print(X.numel())\n",
        "X"
      ],
      "execution_count": 19,
      "outputs": [
        {
          "output_type": "stream",
          "text": [
            "torch.Size([3, 4])\n",
            "12\n"
          ],
          "name": "stdout"
        },
        {
          "output_type": "execute_result",
          "data": {
            "text/plain": [
              "tensor([[ 0.,  1.,  2.,  3.],\n",
              "        [ 4.,  5.,  6.,  7.],\n",
              "        [ 8.,  9., 10., 11.]], dtype=torch.float64)"
            ]
          },
          "metadata": {
            "tags": []
          },
          "execution_count": 19
        }
      ]
    },
    {
      "cell_type": "code",
      "metadata": {
        "id": "W3rD49JQq5Yy",
        "colab_type": "code",
        "colab": {
          "base_uri": "https://localhost:8080/",
          "height": 72
        },
        "outputId": "f459c812-a2f1-4591-f4b2-fff37559656d"
      },
      "source": [
        "torch.tensor([[0., 1., 2., 3.],\n",
        "              [4., 5., 6., 7.],\n",
        "              [8., 9., 10., 11.]])"
      ],
      "execution_count": 33,
      "outputs": [
        {
          "output_type": "execute_result",
          "data": {
            "text/plain": [
              "tensor([[ 0.,  1.,  2.,  3.],\n",
              "        [ 4.,  5.,  6.,  7.],\n",
              "        [ 8.,  9., 10., 11.]])"
            ]
          },
          "metadata": {
            "tags": []
          },
          "execution_count": 33
        }
      ]
    },
    {
      "cell_type": "code",
      "metadata": {
        "id": "fQGJWuo8o9AV",
        "colab_type": "code",
        "colab": {
          "base_uri": "https://localhost:8080/",
          "height": 72
        },
        "outputId": "0b02d181-670e-4931-84d7-0474aa9be2f0"
      },
      "source": [
        "torch.zeros(3, 3)"
      ],
      "execution_count": 20,
      "outputs": [
        {
          "output_type": "execute_result",
          "data": {
            "text/plain": [
              "tensor([[0., 0., 0.],\n",
              "        [0., 0., 0.],\n",
              "        [0., 0., 0.]])"
            ]
          },
          "metadata": {
            "tags": []
          },
          "execution_count": 20
        }
      ]
    },
    {
      "cell_type": "code",
      "metadata": {
        "id": "rWMtMymVpGJo",
        "colab_type": "code",
        "colab": {
          "base_uri": "https://localhost:8080/",
          "height": 72
        },
        "outputId": "dc621c6c-562a-47f1-9174-62fd3727999b"
      },
      "source": [
        "torch.ones(3, 3)"
      ],
      "execution_count": 21,
      "outputs": [
        {
          "output_type": "execute_result",
          "data": {
            "text/plain": [
              "tensor([[1., 1., 1.],\n",
              "        [1., 1., 1.],\n",
              "        [1., 1., 1.]])"
            ]
          },
          "metadata": {
            "tags": []
          },
          "execution_count": 21
        }
      ]
    },
    {
      "cell_type": "code",
      "metadata": {
        "id": "L4MQSHZepH0L",
        "colab_type": "code",
        "colab": {
          "base_uri": "https://localhost:8080/",
          "height": 72
        },
        "outputId": "67af99ff-3941-4d81-9f12-b6ca3f5703a5"
      },
      "source": [
        "torch.eye(3)"
      ],
      "execution_count": 22,
      "outputs": [
        {
          "output_type": "execute_result",
          "data": {
            "text/plain": [
              "tensor([[1., 0., 0.],\n",
              "        [0., 1., 0.],\n",
              "        [0., 0., 1.]])"
            ]
          },
          "metadata": {
            "tags": []
          },
          "execution_count": 22
        }
      ]
    },
    {
      "cell_type": "code",
      "metadata": {
        "id": "XldHHL-GpJUv",
        "colab_type": "code",
        "colab": {
          "base_uri": "https://localhost:8080/",
          "height": 72
        },
        "outputId": "ec77864e-53f5-4c55-84ad-65168348abcf"
      },
      "source": [
        "torch.randint(0, 10, size = (3, 3))"
      ],
      "execution_count": 23,
      "outputs": [
        {
          "output_type": "execute_result",
          "data": {
            "text/plain": [
              "tensor([[3, 5, 0],\n",
              "        [2, 0, 8],\n",
              "        [3, 6, 1]])"
            ]
          },
          "metadata": {
            "tags": []
          },
          "execution_count": 23
        }
      ]
    },
    {
      "cell_type": "code",
      "metadata": {
        "id": "TpbPr2Z7pXOi",
        "colab_type": "code",
        "colab": {
          "base_uri": "https://localhost:8080/",
          "height": 72
        },
        "outputId": "8b40fc97-5354-4daf-8a94-a84c0fb00620"
      },
      "source": [
        "torch.randn(3, 3)"
      ],
      "execution_count": 26,
      "outputs": [
        {
          "output_type": "execute_result",
          "data": {
            "text/plain": [
              "tensor([[ 1.9109, -0.1849,  0.5269],\n",
              "        [-0.0418, -0.3771, -1.5432],\n",
              "        [ 0.1334, -1.3143,  0.5615]])"
            ]
          },
          "metadata": {
            "tags": []
          },
          "execution_count": 26
        }
      ]
    },
    {
      "cell_type": "code",
      "metadata": {
        "id": "csNy75loqS1r",
        "colab_type": "code",
        "colab": {
          "base_uri": "https://localhost:8080/",
          "height": 108
        },
        "outputId": "2cca20e8-4128-49ab-f9d1-09a92183d0ed"
      },
      "source": [
        "x = torch.arange(1, 5, dtype = torch.float64)\n",
        "print(x)\n",
        "\n",
        "print(torch.exp(x))\n",
        "print(torch.sin(x))\n",
        "print(torch.cos(x))\n",
        "print(torch.log(x))"
      ],
      "execution_count": 38,
      "outputs": [
        {
          "output_type": "stream",
          "text": [
            "tensor([1., 2., 3., 4.], dtype=torch.float64)\n",
            "tensor([ 2.7183,  7.3891, 20.0855, 54.5982], dtype=torch.float64)\n",
            "tensor([ 0.8415,  0.9093,  0.1411, -0.7568], dtype=torch.float64)\n",
            "tensor([ 0.5403, -0.4161, -0.9900, -0.6536], dtype=torch.float64)\n",
            "tensor([0.0000, 0.6931, 1.0986, 1.3863], dtype=torch.float64)\n"
          ],
          "name": "stdout"
        }
      ]
    },
    {
      "cell_type": "code",
      "metadata": {
        "id": "8XfSt12MrnH8",
        "colab_type": "code",
        "colab": {
          "base_uri": "https://localhost:8080/",
          "height": 72
        },
        "outputId": "bc2cb5ec-e9c8-4d63-e004-3dcde9852ab7"
      },
      "source": [
        "print(torch.sum(x))\n",
        "print(torch.mean(x))\n",
        "print(torch.std(x))"
      ],
      "execution_count": 44,
      "outputs": [
        {
          "output_type": "stream",
          "text": [
            "tensor(10., dtype=torch.float64)\n",
            "tensor(2.5000, dtype=torch.float64)\n",
            "tensor(1.2910, dtype=torch.float64)\n"
          ],
          "name": "stdout"
        }
      ]
    },
    {
      "cell_type": "code",
      "metadata": {
        "id": "ZtbKgUJKsO-F",
        "colab_type": "code",
        "colab": {
          "base_uri": "https://localhost:8080/",
          "height": 108
        },
        "outputId": "06abfeb5-9f32-44ad-f58e-b49c84aaad42"
      },
      "source": [
        "print(X)\n",
        "print(X.sum(dim = 0))\n",
        "print(X.sum(dim = 1))"
      ],
      "execution_count": 50,
      "outputs": [
        {
          "output_type": "stream",
          "text": [
            "tensor([[ 0.,  1.,  2.,  3.],\n",
            "        [ 4.,  5.,  6.,  7.],\n",
            "        [ 8.,  9., 10., 11.]], dtype=torch.float64)\n",
            "tensor([12., 15., 18., 21.], dtype=torch.float64)\n",
            "tensor([ 6., 22., 38.], dtype=torch.float64)\n"
          ],
          "name": "stdout"
        }
      ]
    },
    {
      "cell_type": "code",
      "metadata": {
        "id": "EM0czoa5sU0J",
        "colab_type": "code",
        "colab": {
          "base_uri": "https://localhost:8080/",
          "height": 35
        },
        "outputId": "ce492e76-5915-4819-f986-d869dbdaddc5"
      },
      "source": [
        "# Lösung:\n",
        "\n",
        "print(X[:, :2].sum(dim = 1))"
      ],
      "execution_count": 51,
      "outputs": [
        {
          "output_type": "stream",
          "text": [
            "tensor([ 1.,  9., 17.], dtype=torch.float64)\n"
          ],
          "name": "stdout"
        }
      ]
    },
    {
      "cell_type": "code",
      "metadata": {
        "id": "g0F_sgk2tNe9",
        "colab_type": "code",
        "colab": {
          "base_uri": "https://localhost:8080/",
          "height": 72
        },
        "outputId": "59f30127-a2b4-4dd4-aee9-751b7b27fe3f"
      },
      "source": [
        "print(x)\n",
        "\n",
        "print(x + 1)\n",
        "print(x + torch.ones(4))"
      ],
      "execution_count": 58,
      "outputs": [
        {
          "output_type": "stream",
          "text": [
            "tensor([1., 2., 3., 4.], dtype=torch.float64)\n",
            "tensor([2., 3., 4., 5.], dtype=torch.float64)\n",
            "tensor([2., 3., 4., 5.], dtype=torch.float64)\n"
          ],
          "name": "stdout"
        }
      ]
    },
    {
      "cell_type": "code",
      "metadata": {
        "id": "3qr3IS2-tnf7",
        "colab_type": "code",
        "colab": {
          "base_uri": "https://localhost:8080/",
          "height": 108
        },
        "outputId": "79fa6177-62e4-45d6-e621-5b4c8be59848"
      },
      "source": [
        "print(x)\n",
        "print(x * 2)\n",
        "print(x // 2)\n",
        "print(x % 2)\n",
        "print(x < 3)"
      ],
      "execution_count": 60,
      "outputs": [
        {
          "output_type": "stream",
          "text": [
            "tensor([1., 2., 3., 4.], dtype=torch.float64)\n",
            "tensor([2., 4., 6., 8.], dtype=torch.float64)\n",
            "tensor([0., 1., 1., 2.], dtype=torch.float64)\n",
            "tensor([1., 0., 1., 0.], dtype=torch.float64)\n",
            "tensor([ True,  True, False, False])\n"
          ],
          "name": "stdout"
        }
      ]
    },
    {
      "cell_type": "code",
      "metadata": {
        "id": "Qu9SVh0J4p2w",
        "colab_type": "code",
        "colab": {
          "base_uri": "https://localhost:8080/",
          "height": 72
        },
        "outputId": "8a329c24-d6b9-4650-de7f-2b0349bb1671"
      },
      "source": [
        "X = torch.ones(3, 3)\n",
        "Y = torch.eye(3)\n",
        "\n",
        "X == Y"
      ],
      "execution_count": 3,
      "outputs": [
        {
          "output_type": "execute_result",
          "data": {
            "text/plain": [
              "tensor([[ True, False, False],\n",
              "        [False,  True, False],\n",
              "        [False, False,  True]])"
            ]
          },
          "metadata": {
            "tags": []
          },
          "execution_count": 3
        }
      ]
    },
    {
      "cell_type": "code",
      "metadata": {
        "id": "EW0ozL14s3SP",
        "colab_type": "code",
        "colab": {
          "base_uri": "https://localhost:8080/",
          "height": 90
        },
        "outputId": "10c1743e-6530-4879-aebc-986e0914e460"
      },
      "source": [
        "v = torch.arange(3).reshape((3, 1))\n",
        "w = torch.arange(2).reshape((1, 2))\n",
        "print(v)\n",
        "print(w)"
      ],
      "execution_count": 4,
      "outputs": [
        {
          "output_type": "stream",
          "text": [
            "tensor([[0],\n",
            "        [1],\n",
            "        [2]])\n",
            "tensor([[0, 1]])\n"
          ],
          "name": "stdout"
        }
      ]
    },
    {
      "cell_type": "code",
      "metadata": {
        "id": "EjNeOnxvtEp4",
        "colab_type": "code",
        "colab": {
          "base_uri": "https://localhost:8080/",
          "height": 72
        },
        "outputId": "67bf07e3-7045-49a8-b00e-71f18bd440b4"
      },
      "source": [
        "v + w"
      ],
      "execution_count": 5,
      "outputs": [
        {
          "output_type": "execute_result",
          "data": {
            "text/plain": [
              "tensor([[0, 1],\n",
              "        [1, 2],\n",
              "        [2, 3]])"
            ]
          },
          "metadata": {
            "tags": []
          },
          "execution_count": 5
        }
      ]
    },
    {
      "cell_type": "code",
      "metadata": {
        "id": "kMmCPEcrtLAs",
        "colab_type": "code",
        "colab": {
          "base_uri": "https://localhost:8080/",
          "height": 162
        },
        "outputId": "d9330767-6be7-462a-aae3-c1d9e2d08b64"
      },
      "source": [
        "Z = torch.tensor([[1, 2, 3],\n",
        "                  [4, 5, 6],\n",
        "                  [7, 8, 9],\n",
        "                  [10, 11, 12]])\n",
        "print(Z[0, 1])\n",
        "print(Z[-1])\n",
        "print(Z[:, -1])\n",
        "print(Z[:, :2])\n",
        "\n",
        "# Lösung:\n",
        "print(Z[::2, 1])"
      ],
      "execution_count": 31,
      "outputs": [
        {
          "output_type": "stream",
          "text": [
            "tensor(2)\n",
            "tensor([10, 11, 12])\n",
            "tensor([ 3,  6,  9, 12])\n",
            "tensor([[ 1,  2],\n",
            "        [ 4,  5],\n",
            "        [ 7,  8],\n",
            "        [10, 11]])\n",
            "tensor([2, 8])\n"
          ],
          "name": "stdout"
        }
      ]
    },
    {
      "cell_type": "code",
      "metadata": {
        "id": "NLsTgrpl4iHh",
        "colab_type": "code",
        "colab": {
          "base_uri": "https://localhost:8080/",
          "height": 53
        },
        "outputId": "a44ff131-6bd7-49bd-9cf1-fbef1ec15a10"
      },
      "source": [
        "print(\"id(Z):\", id(Z))\n",
        "Z = Z + torch.ones(4, 3)\n",
        "print(\"id(Z):\", id(Z)) # unter Umständen nicht wünschenswert!"
      ],
      "execution_count": 32,
      "outputs": [
        {
          "output_type": "stream",
          "text": [
            "id(Z): 140163074741232\n",
            "id(Z): 140163074849312\n"
          ],
          "name": "stdout"
        }
      ]
    },
    {
      "cell_type": "code",
      "metadata": {
        "id": "KIAwpuuI6LZg",
        "colab_type": "code",
        "colab": {
          "base_uri": "https://localhost:8080/",
          "height": 53
        },
        "outputId": "11f20dfa-6e63-4ab3-b0d5-86cdd85ce1ef"
      },
      "source": [
        "print(\"id(Z):\", id(Z))\n",
        "Z[:] = Z + torch.ones(4, 3) # Wir bevorzugen im Allgemeinen \"in place\"-Operationen\n",
        "print(\"id(Z):\", id(Z))"
      ],
      "execution_count": 33,
      "outputs": [
        {
          "output_type": "stream",
          "text": [
            "id(Z): 140163074849312\n",
            "id(Z): 140163074849312\n"
          ],
          "name": "stdout"
        }
      ]
    },
    {
      "cell_type": "code",
      "metadata": {
        "id": "Lmswyyg16tgE",
        "colab_type": "code",
        "colab": {
          "base_uri": "https://localhost:8080/",
          "height": 53
        },
        "outputId": "c32de515-5dde-44b0-937e-5b5c13e38dc7"
      },
      "source": [
        "print(\"id(Z):\", id(Z))\n",
        "Z[:] += torch.ones(4, 3) # Alternativ auch so\n",
        "print(\"id(Z):\", id(Z))"
      ],
      "execution_count": 34,
      "outputs": [
        {
          "output_type": "stream",
          "text": [
            "id(Z): 140163074849312\n",
            "id(Z): 140163074849312\n"
          ],
          "name": "stdout"
        }
      ]
    },
    {
      "cell_type": "code",
      "metadata": {
        "id": "-g9PEkZO7O7k",
        "colab_type": "code",
        "colab": {
          "base_uri": "https://localhost:8080/",
          "height": 90
        },
        "outputId": "33834290-fa83-403d-aa45-6aba4e08829f"
      },
      "source": [
        "print(\"id(Z):\", id(Z))\n",
        "print(\"type(Z):\", type(Z))\n",
        "Z = Z.numpy()\n",
        "print(\"id(Z):\", id(Z))\n",
        "print(\"type(Z):\", type(Z))"
      ],
      "execution_count": 35,
      "outputs": [
        {
          "output_type": "stream",
          "text": [
            "id(Z): 140163074849312\n",
            "type(Z): <class 'torch.Tensor'>\n",
            "id(Z): 140163075356992\n",
            "type(Z): <class 'numpy.ndarray'>\n"
          ],
          "name": "stdout"
        }
      ]
    },
    {
      "cell_type": "code",
      "metadata": {
        "id": "xg4OAyAx9c7s",
        "colab_type": "code",
        "colab": {
          "base_uri": "https://localhost:8080/",
          "height": 108
        },
        "outputId": "323c70e3-59f0-4f4b-8e7e-43f45ed243c1"
      },
      "source": [
        "l = torch.tensor([1.0])\n",
        "\n",
        "print(l)\n",
        "print(l.numpy())\n",
        "print(l.item())\n",
        "print(int(l))\n",
        "print(float(l))"
      ],
      "execution_count": 38,
      "outputs": [
        {
          "output_type": "stream",
          "text": [
            "tensor([1.])\n",
            "[1.]\n",
            "1.0\n",
            "1\n",
            "1.0\n"
          ],
          "name": "stdout"
        }
      ]
    },
    {
      "cell_type": "code",
      "metadata": {
        "id": "cbfFdDwe-amT",
        "colab_type": "code",
        "colab": {}
      },
      "source": [
        ""
      ],
      "execution_count": null,
      "outputs": []
    }
  ]
}